{
 "cells": [
  {
   "cell_type": "code",
   "execution_count": 35,
   "metadata": {},
   "outputs": [],
   "source": [
    "#import libraries\n",
    "import pyodbc \n",
    "import json\n"
   ]
  },
  {
   "cell_type": "code",
   "execution_count": 36,
   "metadata": {},
   "outputs": [],
   "source": [
    "#connect to db\n",
    "server_name = \"INTERN-LAPTOP\\MSSQLSERVER02\"\n",
    "database_name = \"iabcategoriesdb\"\n",
    "\n",
    "connection_string = f'DRIVER={{ODBC Driver 18 for SQL Server}};SERVER={server_name};DATABASE={database_name};Trusted_Connection=yes;TrustServerCertificate=yes'\n",
    "\n",
    "connection = pyodbc.connect(connection_string)\n",
    "cursor = connection.cursor()"
   ]
  },
  {
   "cell_type": "code",
   "execution_count": null,
   "metadata": {},
   "outputs": [],
   "source": [
    "#create iab_categories table\n",
    "create_iabCategories_table_query = \"\"\"\n",
    "IF NOT EXISTS (SELECT * FROM INFORMATION_SCHEMA.TABLES WHERE TABLE_NAME = 'iabCategories')\n",
    "BEGIN\n",
    "    CREATE TABLE iabCategories (\n",
    "        category_id INT PRIMARY KEY IDENTITY(1,1),\n",
    "        category_code NVARCHAR(255) NOT NULL UNIQUE,\n",
    "        category_name NVARCHAR(255) NOT NULL\n",
    "    )\n",
    "END\n",
    "\"\"\"\n",
    "cursor.execute(create_iabCategories_table_query)"
   ]
  },
  {
   "cell_type": "code",
   "execution_count": null,
   "metadata": {},
   "outputs": [],
   "source": [
    "#create keywords table\n",
    "create_keywords_table_query = \"\"\"\n",
    "IF NOT EXISTS (SELECT * FROM INFORMATION_SCHEMA.TABLES WHERE TABLE_NAME = 'keywords')\n",
    "BEGIN\n",
    "    CREATE TABLE keywords (\n",
    "        keyword_id INT PRIMARY KEY IDENTITY(1,1),\n",
    "        keyword NVARCHAR(255) NOT NULL,\n",
    "        keyword_language NVARCHAR(255) NOT NULL,\n",
    "        UNIQUE (keyword, keyword_language)\n",
    "    )\n",
    "END\n",
    "\"\"\"\n",
    "\n",
    "cursor.execute(create_keywords_table_query)"
   ]
  },
  {
   "cell_type": "code",
   "execution_count": null,
   "metadata": {},
   "outputs": [],
   "source": [
    "#create iabCategories_keywords table\n",
    "create_iabCategories_keywords_table_query = \"\"\"\n",
    "IF NOT EXISTS (SELECT * FROM INFORMATION_SCHEMA.TABLES WHERE TABLE_NAME = 'iabCategories_keywords')\n",
    "BEGIN\n",
    "    CREATE TABLE iabCategories_keywords (\n",
    "        category_id INT,\n",
    "        keyword_id INT,\n",
    "        FOREIGN KEY (category_id) REFERENCES iabCategories(category_id),\n",
    "        FOREIGN KEY (keyword_id) REFERENCES keywords(keyword_id)\n",
    "    )\n",
    "END\n",
    "\"\"\"\n",
    "cursor.execute(create_iabCategories_keywords_table_query)"
   ]
  },
  {
   "cell_type": "code",
   "execution_count": null,
   "metadata": {},
   "outputs": [],
   "source": [
    "#insert data in iabCategories table\n",
    "insert_iab_categories_data_query = \"\"\"\n",
    "INSERT INTO iabCategories (category_code, category_name)\n",
    "VALUES (?, ?)\n",
    "\"\"\"\n",
    "\n",
    "with open(\"../dbHandler/iab_categories_initial_data.json\", \"r\") as file:\n",
    "    data = json.load(file)\n",
    "\n",
    "for key, value in data[\"iabCategories\"].items():\n",
    "    try:\n",
    "        category_name = value['name']\n",
    "\n",
    "\n",
    "        insert_iab_categories_data_to_insert = (f\"{key}\", f\"{category_name}\")\n",
    "        \n",
    "        cursor.execute(insert_iab_categories_data_query, insert_iab_categories_data_to_insert)\n",
    "    except Exception as e:\n",
    "        print(f\"The category code '{key}' already exist in the database\")\n",
    "connection.commit()"
   ]
  },
  {
   "cell_type": "code",
   "execution_count": 41,
   "metadata": {},
   "outputs": [],
   "source": [
    "#insert data in keywords table and associate tables\n",
    "insert_keywords_data_query = \"\"\"\n",
    "INSERT INTO keywords (keyword, keyword_language)\n",
    "VALUES (?, ?)\n",
    "\"\"\"\n",
    "\n",
    "inser_iabCategories_keywords_query = \"\"\"\n",
    "INSERT INTO iabCategories_keywords (category_id, keyword_id)\n",
    "VALUES (?, ?)\n",
    "\"\"\"\n",
    "\n",
    "find_id_with_category_code_query = \"\"\"\n",
    "SELECT category_id FROM iabCategories WHERE category_code = ?\n",
    "\"\"\"\n",
    "\n",
    "for category_code, category_data in data[\"iabCategories\"].items():\n",
    "    keywords = category_data[\"keywords\"]\n",
    "    language = \"en\"\n",
    "\n",
    "    cursor.execute(find_id_with_category_code_query, f\"{category_code}\")\n",
    "    category_id_to_associate_tuple = cursor.fetchone()\n",
    "    category_id_to_associate = category_id_to_associate_tuple[0]\n",
    "\n",
    "\n",
    "    if len(keywords) > 0:\n",
    "        for keyword in keywords:\n",
    "            try:\n",
    "                lowercase_keyword = keyword.lower()\n",
    "                keywords_data_to_insert = (f\"{lowercase_keyword}\", language)\n",
    "\n",
    "                cursor.execute(insert_keywords_data_query, keywords_data_to_insert)\n",
    "                connection.commit()\n",
    "                \n",
    "\n",
    "                cursor.execute(\"SELECT @@IDENTITY AS last_id\")\n",
    "                result = cursor.fetchone()\n",
    "                last_keyword_id = result[0]\n",
    "\n",
    "                iabCategories_keywords_data_to_insert = (category_id_to_associate, last_keyword_id)\n",
    "                cursor.execute(inser_iabCategories_keywords_query, iabCategories_keywords_data_to_insert)\n",
    "                connection.commit()\n",
    "            except Exception as e:\n",
    "                print(f\"The keyword(s) '{keyword}' already exist in the database, in relation to the '{language}' language.\")\n"
   ]
  },
  {
   "cell_type": "code",
   "execution_count": 42,
   "metadata": {},
   "outputs": [],
   "source": [
    "#close db connection\n",
    "connection.close()"
   ]
  }
 ],
 "metadata": {
  "kernelspec": {
   "display_name": "Python 3",
   "language": "python",
   "name": "python3"
  },
  "language_info": {
   "codemirror_mode": {
    "name": "ipython",
    "version": 3
   },
   "file_extension": ".py",
   "mimetype": "text/x-python",
   "name": "python",
   "nbconvert_exporter": "python",
   "pygments_lexer": "ipython3",
   "version": "3.11.7"
  }
 },
 "nbformat": 4,
 "nbformat_minor": 2
}
