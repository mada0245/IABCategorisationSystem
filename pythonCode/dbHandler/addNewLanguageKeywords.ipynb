{
 "cells": [
  {
   "cell_type": "code",
   "execution_count": 8,
   "metadata": {},
   "outputs": [],
   "source": [
    "#import libraries\n",
    "from googletrans import Translator\n",
    "translator = Translator()\n",
    "from googletrans import LANGUAGES\n",
    "import pyodbc \n",
    "import json"
   ]
  },
  {
   "cell_type": "code",
   "execution_count": 9,
   "metadata": {},
   "outputs": [],
   "source": [
    "#connect to db\n",
    "server_name = \"INTERN-LAPTOP\\MSSQLSERVER02\"\n",
    "database_name = \"iabcategoriesdb\"\n",
    "\n",
    "connection_string = f'DRIVER={{ODBC Driver 18 for SQL Server}};SERVER={server_name};DATABASE={database_name};Trusted_Connection=yes;TrustServerCertificate=yes'\n",
    "\n",
    "connection = pyodbc.connect(connection_string)\n",
    "cursor = connection.cursor()"
   ]
  },
  {
   "cell_type": "code",
   "execution_count": 10,
   "metadata": {},
   "outputs": [],
   "source": [
    "#grab new language(s) from scraped website\n",
    "with open(\"../scrapeContent/scraped_content_output.json\", \"r\") as jsonobj:\n",
    "    scraped_json = json.load(jsonobj)\n",
    "    \n",
    "all_source_languages = scraped_json[\"all_source_languages\"]\n",
    "\n",
    "cursor.execute(\"SELECT DISTINCT keyword_language FROM keywords\")\n",
    "db_keyword_languages_result = cursor.fetchall()\n",
    "db_keyword_languages = set([row[0] for row in db_keyword_languages_result])\n",
    "\n",
    "\n",
    "new_languages = [language for language in all_source_languages if language not in db_keyword_languages]"
   ]
  },
  {
   "cell_type": "code",
   "execution_count": 15,
   "metadata": {},
   "outputs": [
    {
     "name": "stdout",
     "output_type": "stream",
     "text": [
      "[]\n"
     ]
    }
   ],
   "source": [
    "#verify if the new_language have valid LANGUAGE code for translation\n",
    "keyword_new_language_array = [] \n",
    "\n",
    "for language in new_languages:\n",
    "    if language not in LANGUAGES:\n",
    "        print(f\"'{language}' is not a valid language code.\")\n",
    "    else:\n",
    "        keyword_new_language_array.append(language)"
   ]
  },
  {
   "cell_type": "code",
   "execution_count": 12,
   "metadata": {},
   "outputs": [],
   "source": [
    "#grab initial keywords, en, from database\n",
    "if keyword_new_language_array:\n",
    "    keyword_original_language = \"en\"\n",
    "\n",
    "    cursor.execute(f\"SELECT keyword FROM keywords WHERE keyword_language = ?\", keyword_original_language)\n",
    "    original_keywords_array = [row[0] for row in cursor.fetchall()]\n"
   ]
  },
  {
   "cell_type": "code",
   "execution_count": 13,
   "metadata": {},
   "outputs": [],
   "source": [
    "if keyword_new_language_array:\n",
    "    #translate keywords\n",
    "    for keyword_new_language in keyword_new_language_array:\n",
    "        translation_keywords_array = [(original_keyword, translator.translate(original_keyword, dest=keyword_new_language).text) for original_keyword in original_keywords_array]\n",
    "\n",
    "    #store keywords and associate tables\n",
    "    for translation_keyword in translation_keywords_array:\n",
    "        try:\n",
    "            cursor.execute(\"\"\"\n",
    "                SELECT ic.category_id \n",
    "                FROM keywords k \n",
    "                JOIN iabCategories_keywords ic ON k.keyword_id = ic.keyword_id \n",
    "                WHERE k.keyword = ?\n",
    "                \"\"\", (translation_keyword[0],))\n",
    "            \n",
    "            category_id_result = cursor.fetchone()\n",
    "            category_id = category_id_result[0]\n",
    "\n",
    "            cursor.execute(\"INSERT INTO keywords (keyword, keyword_language) VALUES (?, ?)\", translation_keyword[1], keyword_new_language)\n",
    "            connection.commit()\n",
    "\n",
    "            cursor.execute(\"SELECT @@IDENTITY AS last_id\")\n",
    "            last_id_result = cursor.fetchone()\n",
    "            last_keyword_id = last_id_result[0]\n",
    "\n",
    "            cursor.execute(\"INSERT INTO iabCategories_keywords (category_id, keyword_id) VALUES (?, ?)\", (category_id, last_keyword_id))\n",
    "            connection.commit()\n",
    "\n",
    "        except Exception as e:\n",
    "            print(f\"The keyword(s) '{translation_keyword[1]}' already exist in the database, in relation to the '{keyword_new_language}' language.\")"
   ]
  },
  {
   "cell_type": "code",
   "execution_count": 14,
   "metadata": {},
   "outputs": [],
   "source": [
    "#close db connection\n",
    "connection.close()"
   ]
  }
 ],
 "metadata": {
  "kernelspec": {
   "display_name": "Python 3",
   "language": "python",
   "name": "python3"
  },
  "language_info": {
   "codemirror_mode": {
    "name": "ipython",
    "version": 3
   },
   "file_extension": ".py",
   "mimetype": "text/x-python",
   "name": "python",
   "nbconvert_exporter": "python",
   "pygments_lexer": "ipython3",
   "version": "3.11.7"
  }
 },
 "nbformat": 4,
 "nbformat_minor": 2
}
