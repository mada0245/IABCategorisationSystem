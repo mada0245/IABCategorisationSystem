{
 "cells": [
  {
   "cell_type": "code",
   "execution_count": 1,
   "metadata": {},
   "outputs": [],
   "source": [
    "#import libraries\n",
    "from bs4 import BeautifulSoup\n",
    "import requests\n",
    "import json"
   ]
  },
  {
   "cell_type": "code",
   "execution_count": 2,
   "metadata": {},
   "outputs": [],
   "source": [
    "#read website from file\n",
    "with open(\"../scrapeContent/website_to_scrape.txt\", \"r\") as file:\n",
    "    website = file.read()"
   ]
  },
  {
   "cell_type": "code",
   "execution_count": 3,
   "metadata": {},
   "outputs": [],
   "source": [
    "#get html from website\n",
    "result = requests.get(website)\n",
    "content = result.text"
   ]
  },
  {
   "cell_type": "code",
   "execution_count": 4,
   "metadata": {},
   "outputs": [],
   "source": [
    "#get text from html\n",
    "if result.status_code == 200:\n",
    "    soup = BeautifulSoup(result.content, 'html.parser')\n",
    "\n",
    "    all_text = soup.get_text(separator='\\n', strip=True)\n",
    "else:\n",
    "    print(f\"Failed to retrieve the webpage '{website}'. Status code: {result.status_code}\")\n",
    "\n",
    "status_code = result.status_code\n"
   ]
  },
  {
   "cell_type": "code",
   "execution_count": 5,
   "metadata": {},
   "outputs": [],
   "source": [
    "#create a json obj with the desired content, ignoring unecessary elements\n",
    "lines = all_text.strip().split('\\n')\n",
    "\n",
    "#get meta description if any\n",
    "description_tag = soup.find(\"meta\", attrs={\"name\": \"description\"})\n",
    "description = description_tag.get(\"content\") if description_tag else \"\"\n",
    "\n",
    "#get alt images texts\n",
    "alt_images_texts = [img.get(\"alt\") for img in soup.find_all(\"img\") if img.get(\"alt\")]\n",
    "\n",
    "jsonObj = {\"website\": website, \"description\":description, \"alt_images_texts\": alt_images_texts, \"content\": []}\n",
    "\n",
    "#ignore these elements\n",
    "#ignoreElements = [\"button\", \"script\", \"div\", \"span\", \"a\", \"b\", \"style\"]\n",
    "findTheseElements = [\"title\", \"alt_images_texts\", \"p\", \"h1\", \"h2\", \"h3\", \"h4\", \"h5\", \"h6\"]\n",
    "\n",
    "for line in lines:\n",
    "    found = soup.find_all(string = lambda text: text and line.strip() in text.strip())\n",
    "    for item in found:\n",
    "        #get text from elements\n",
    "        text = line.strip().lower()\n",
    "        \n",
    "        if len(text) > 1 and not text.isnumeric() and item.parent.name in findTheseElements:\n",
    "\n",
    "            #get languages of the text\n",
    "            lang = item.find_parent(attrs={\"lang\": True})\n",
    "            lang = lang[\"lang\"][:2] if lang and lang[\"lang\"] else \"unknown\"\n",
    "            \n",
    "            #store everything and get element name of each text\n",
    "            jsonObj[\"content\"].append({\"text\": text, \"element\": item.parent.name, \"source_language\": lang})\n"
   ]
  },
  {
   "cell_type": "code",
   "execution_count": 6,
   "metadata": {},
   "outputs": [],
   "source": [
    "#get all unique languages in the page\n",
    "\n",
    "content = jsonObj[\"content\"]\n",
    "\n",
    "all_source_languages = list(set(source_language[\"source_language\"] for source_language in content))\n"
   ]
  },
  {
   "cell_type": "code",
   "execution_count": 7,
   "metadata": {},
   "outputs": [],
   "source": [
    "#create the final jsonObj\n",
    "processed_json = {\"website\": website, \"description\":description, \"all_source_languages\": all_source_languages, \"alt_images_texts\": alt_images_texts, \"content\": jsonObj[\"content\"], \"status_code\":status_code }\n",
    "\n",
    "processed_jsonObj = json.dumps(processed_json, indent=4)"
   ]
  },
  {
   "cell_type": "code",
   "execution_count": 8,
   "metadata": {},
   "outputs": [],
   "source": [
    "#store the json in a json file\n",
    "with open(\"../scrapeContent/scraped_content_output.json\", \"w\") as file:\n",
    "    file.write(processed_jsonObj)"
   ]
  }
 ],
 "metadata": {
  "kernelspec": {
   "display_name": "Python 3",
   "language": "python",
   "name": "python3"
  },
  "language_info": {
   "codemirror_mode": {
    "name": "ipython",
    "version": 3
   },
   "file_extension": ".py",
   "mimetype": "text/x-python",
   "name": "python",
   "nbconvert_exporter": "python",
   "pygments_lexer": "ipython3",
   "version": "3.11.7"
  }
 },
 "nbformat": 4,
 "nbformat_minor": 2
}
