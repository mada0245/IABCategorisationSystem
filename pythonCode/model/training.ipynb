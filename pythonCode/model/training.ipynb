{
 "cells": [
  {
   "cell_type": "code",
   "execution_count": 127,
   "metadata": {},
   "outputs": [],
   "source": [
    "#import libraries\n",
    "# General libraries\n",
    "import json\n",
    "import re\n",
    "\n",
    "# Data handling\n",
    "import pandas as pd\n",
    "from sklearn.model_selection import train_test_split\n",
    "from sklearn.metrics import accuracy_score\n",
    "\n",
    "# Natural Language Processing\n",
    "from nltk.corpus import stopwords\n",
    "from nltk.tokenize import word_tokenize\n",
    "from nltk.stem import PorterStemmer\n",
    "from sklearn.feature_extraction.text import TfidfVectorizer\n",
    "from sklearn.ensemble import RandomForestClassifier"
   ]
  },
  {
   "cell_type": "code",
   "execution_count": null,
   "metadata": {},
   "outputs": [],
   "source": [
    "#scrape initial websites to use for training\n",
    "%run \"../scrapeContent/scrapeWebsitesToTrain.ipynb\""
   ]
  },
  {
   "cell_type": "code",
   "execution_count": 271,
   "metadata": {},
   "outputs": [],
   "source": [
    "#grab the trainig data\n",
    "with open(\"../scrapeContent/processed_websites_content.json\", \"r\") as jsonobj:\n",
    "    training_data_json = json.load(jsonobj)"
   ]
  },
  {
   "cell_type": "code",
   "execution_count": 272,
   "metadata": {},
   "outputs": [],
   "source": [
    "stop_words = set(stopwords.words(\"english\"))\n",
    "stemmer = PorterStemmer()\n",
    "text_columns = [\"head_title\", \"description\", \"title\", \"alt_images_texts\", \"p\", \"h1\", \"h2\", \"h3\", \"h4\", \"h5\", \"h6\"]\n",
    "\n",
    "def preprocess_text(text):\n",
    "    text = text.lower()\n",
    "    text = re.sub(r\"[^a-zA-Z\\s]\", \"\", text)\n",
    "    tokens = word_tokenize(text)\n",
    "    filtered_tokens = [word for word in tokens]\n",
    "    stemmed_tokens = [stemmer.stem(word) for word in filtered_tokens]\n",
    "    preprocessed_text = \" \".join(stemmed_tokens)\n",
    "    \n",
    "    return preprocessed_text"
   ]
  },
  {
   "cell_type": "code",
   "execution_count": 281,
   "metadata": {},
   "outputs": [],
   "source": [
    "#create dataframe\n",
    "columns = [\"website\", \"content\", \"category_name\" ]\n",
    "\n",
    "dataFrame = pd.DataFrame(columns=columns)\n",
    "\n",
    "for website, data in training_data_json.items():\n",
    "    status_code = data.get(\"status_code\",\"\")\n",
    "\n",
    "    if status_code == 200:\n",
    "        for prop in text_columns:\n",
    "            if prop in data and prop in text_columns:\n",
    "                    data[prop] = preprocess_text(data[prop])\n",
    "                \n",
    "\n",
    "        combined_content = \" \".join([\n",
    "            data.get(\"head_title\", \"\"),\n",
    "            data.get(\"description\", \"\"),\n",
    "            data.get(\"title\", \"\"),\n",
    "            data.get(\"alt_images_texts\", \"\"),\n",
    "            data.get(\"p\", \"\"),\n",
    "            data.get(\"h1\", \"\"),\n",
    "            data.get(\"h2\", \"\"),\n",
    "            data.get(\"h3\", \"\"),\n",
    "            data.get(\"h4\", \"\"),\n",
    "            data.get(\"h5\", \"\"),\n",
    "            data.get(\"h6\", \"\")\n",
    "        ])\n",
    "\n",
    "        new_row = {\n",
    "            \"website\": website,\n",
    "            \"content\": combined_content,\n",
    "            \"category_name\": data.get(\"category_name\"),\n",
    "        }\n",
    "        new_row_df = pd.DataFrame([new_row])\n",
    "\n",
    "        dataFrame = pd.concat([dataFrame, new_row_df], ignore_index=True)\n",
    "\n"
   ]
  },
  {
   "cell_type": "code",
   "execution_count": 286,
   "metadata": {},
   "outputs": [],
   "source": [
    "df = dataFrame\n",
    "df = df.drop_duplicates(subset=\"category_name\")\n",
    "dataFrame = df"
   ]
  },
  {
   "cell_type": "code",
   "execution_count": null,
   "metadata": {},
   "outputs": [],
   "source": [
    "n = len(dataFrame)\n",
    "dataFrame.head(n)  "
   ]
  },
  {
   "cell_type": "code",
   "execution_count": null,
   "metadata": {},
   "outputs": [],
   "source": [
    "# Step 3: TF-IDF Vectorization\n",
    "tfidf_vectorizer = TfidfVectorizer(max_features=1000, ngram_range=(1, 2))  # You can adjust the number of features\n",
    "X_tfidf = tfidf_vectorizer.fit_transform(dataFrame[\"content\"])\n",
    "\n",
    "# Step 4: Train-Test Split\n",
    "X_train, X_test, y_train, y_test = train_test_split(X_tfidf, dataFrame[\"category_name\"], test_size=0.2, random_state=42)\n",
    "\n",
    "print(X_tfidf)\n",
    "# Step 5: Model Selection (Random Forest as an example)\n",
    "model = RandomForestClassifier(n_estimators=100, random_state=42)\n",
    "\n",
    "# Step 6: Model Training\n",
    "model.fit(X_train, y_train)\n",
    "\n",
    "# Step 7: Model Evaluation\n",
    "y_pred = model.predict(X_test)\n",
    "accuracy = accuracy_score(y_test, y_pred)\n",
    "print(f\"Accuracy: {accuracy}\")"
   ]
  }
 ],
 "metadata": {
  "kernelspec": {
   "display_name": "Python 3",
   "language": "python",
   "name": "python3"
  },
  "language_info": {
   "codemirror_mode": {
    "name": "ipython",
    "version": 3
   },
   "file_extension": ".py",
   "mimetype": "text/x-python",
   "name": "python",
   "nbconvert_exporter": "python",
   "pygments_lexer": "ipython3",
   "version": "3.11.7"
  }
 },
 "nbformat": 4,
 "nbformat_minor": 2
}
